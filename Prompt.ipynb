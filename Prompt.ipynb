{
 "cells": [
  {
   "cell_type": "code",
   "execution_count": null,
   "id": "7e0f924f",
   "metadata": {},
   "outputs": [],
   "source": [
    "# Instalando a lib da OpenAI\n",
    "!pip install -q openai"
   ]
  },
  {
   "cell_type": "code",
   "execution_count": null,
   "id": "55e02470",
   "metadata": {},
   "outputs": [],
   "source": [
    "from google.colab import userdata\n",
    "import openai\n",
    "\n",
    "# seta a API key\n",
    "openai.api_key = userdata.get('OPENAI_API_KEY')\n",
    "\n",
    "# Definição de persona do sistema e histórico de mensagens\n",
    "messages = [\n",
    "    {\"role\": \"system\", \"content\": \"You are a helpful assistant.\"},  # seta a persona do modelo, se vai ser educado, formal, sarcástico etc.\n",
    "]"
   ]
  },
  {
   "cell_type": "code",
   "execution_count": null,
   "id": "01f10a93",
   "metadata": {},
   "outputs": [],
   "source": [
    "# SELF-CONSISTENCY\n",
    "answers = []\n",
    "\n",
    "LOOPS = 4\n",
    "\n",
    "prompt = \"\"\"Retorne no final sempre a string 'Resultado: ' com apenas valor do resultado depois dela, nenhuma operação nem pontuação além do valor.\n",
    "\n",
    "Pergunta: Se houver 3 carros no estacionamento e chegarem mais 2 carros, quantos carros estarão no estacionamento?\n",
    "\n",
    "Resposta: Já existem 3 carros no estacionamento. Chegam mais 2. Agora existem 3 + 2 = 5 carros. A resposta é 5.\n",
    "\n",
    "Resultado: 5\n",
    "\n",
    "Pergunta: Os patos de Janet botam 16 ovos por dia. Ela come três no café da manhã todas as manhãs e faz muffins para seus amigos todos os dias utilizando mais quatro. Ela vende o restante por 2 dólares por ovo. Quanto dinheiro ela ganha todos os dias?\n",
    "\n",
    "Resposta:\n",
    "\n",
    "Resultado:\"\"\""
   ]
  },
  {
   "cell_type": "code",
   "execution_count": null,
   "id": "03f50c26",
   "metadata": {},
   "outputs": [],
   "source": [
    "messages.append({\"role\": \"user\", \"content\": prompt})  # adiciona sua pergunta no histórico do chat\n",
    "\n",
    "for loop in range(0, LOOPS):\n",
    "    # Chamada à API\n",
    "    response = openai.chat.completions.create(\n",
    "        model = \"gpt-3.5-turbo\",\n",
    "        messages = messages,\n",
    "        max_tokens = 200,\n",
    "        temperature = 1\n",
    "    )\n",
    "\n",
    "    # Extrai a resposta de dentro do JSON de resposta\n",
    "    answer = response.choices[0].message.content\n",
    "    print(f\"### LOOP\", loop, ':\\n')\n",
    "    print(answer)\n",
    "    \n",
    "    start_index = answer.find(\"Resultado: \") + len(\"Resultado: \")\n",
    "    if start_index != -1:\n",
    "        number_answer = answer[start_index:].split()[0].rstrip('.')\n",
    "        print(\"Answer:\", number_answer, '\\n------')\n",
    "        answers.append(int(number_answer))  # adiciona a resposta à lista de respostas\n",
    "\n",
    "print(answers, '\\n')"
   ]
  }
 ],
 "metadata": {
  "language_info": {
   "name": "python"
  }
 },
 "nbformat": 4,
 "nbformat_minor": 5
}
